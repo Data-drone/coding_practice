{
 "cells": [
  {
   "cell_type": "markdown",
   "metadata": {},
   "source": [
    "# Autoencoder Experiment"
   ]
  },
  {
   "cell_type": "code",
   "execution_count": 1,
   "metadata": {},
   "outputs": [],
   "source": [
    "import os\n",
    "\n",
    "import torch\n",
    "import torchvision\n",
    "from torch import nn\n",
    "from torch.autograd import Variable\n",
    "from torch.utils.data import DataLoader\n",
    "from torchvision import transforms\n",
    "from torchvision.datasets import MNIST\n",
    "from torchvision.utils import save_image"
   ]
  },
  {
   "cell_type": "code",
   "execution_count": 2,
   "metadata": {},
   "outputs": [],
   "source": [
    "\n",
    "if not os.path.exists('./mlp_img'):\n",
    "    os.mkdir('./mlp_img')\n",
    "\n",
    "\n",
    "def to_img(x):\n",
    "    x = 0.5 * (x + 1)\n",
    "    x = x.clamp(0, 1)\n",
    "    x = x.view(x.size(0), 1, 28, 28)\n",
    "    return x"
   ]
  },
  {
   "cell_type": "markdown",
   "metadata": {},
   "source": [
    "## Network Parameters"
   ]
  },
  {
   "cell_type": "code",
   "execution_count": 3,
   "metadata": {},
   "outputs": [],
   "source": [
    "num_epochs = 100\n",
    "batch_size = 128\n",
    "learning_rate = 1e-3"
   ]
  },
  {
   "cell_type": "code",
   "execution_count": 5,
   "metadata": {},
   "outputs": [
    {
     "name": "stderr",
     "output_type": "stream",
     "text": [
      "0.00B [00:00, ?B/s]"
     ]
    },
    {
     "name": "stdout",
     "output_type": "stream",
     "text": [
      "Downloading http://yann.lecun.com/exdb/mnist/train-images-idx3-ubyte.gz to ./data/MNIST/raw/train-images-idx3-ubyte.gz\n"
     ]
    },
    {
     "name": "stderr",
     "output_type": "stream",
     "text": [
      "9.92MB [00:06, 1.58MB/s]                            \n"
     ]
    },
    {
     "name": "stdout",
     "output_type": "stream",
     "text": [
      "Extracting ./data/MNIST/raw/train-images-idx3-ubyte.gz\n"
     ]
    },
    {
     "name": "stderr",
     "output_type": "stream",
     "text": [
      "0.00B [00:00, ?B/s]"
     ]
    },
    {
     "name": "stdout",
     "output_type": "stream",
     "text": [
      "Downloading http://yann.lecun.com/exdb/mnist/train-labels-idx1-ubyte.gz to ./data/MNIST/raw/train-labels-idx1-ubyte.gz\n"
     ]
    },
    {
     "name": "stderr",
     "output_type": "stream",
     "text": [
      "32.8kB [00:01, 25.3kB/s]                            \n",
      "0.00B [00:00, ?B/s]"
     ]
    },
    {
     "name": "stdout",
     "output_type": "stream",
     "text": [
      "Extracting ./data/MNIST/raw/train-labels-idx1-ubyte.gz\n",
      "Downloading http://yann.lecun.com/exdb/mnist/t10k-images-idx3-ubyte.gz to ./data/MNIST/raw/t10k-images-idx3-ubyte.gz\n"
     ]
    },
    {
     "name": "stderr",
     "output_type": "stream",
     "text": [
      "1.65MB [00:08, 195kB/s]                            \n",
      "0.00B [00:00, ?B/s]"
     ]
    },
    {
     "name": "stdout",
     "output_type": "stream",
     "text": [
      "Extracting ./data/MNIST/raw/t10k-images-idx3-ubyte.gz\n",
      "Downloading http://yann.lecun.com/exdb/mnist/t10k-labels-idx1-ubyte.gz to ./data/MNIST/raw/t10k-labels-idx1-ubyte.gz\n"
     ]
    },
    {
     "name": "stderr",
     "output_type": "stream",
     "text": [
      "8.19kB [00:00, 9.05kB/s]                   "
     ]
    },
    {
     "name": "stdout",
     "output_type": "stream",
     "text": [
      "Extracting ./data/MNIST/raw/t10k-labels-idx1-ubyte.gz\n",
      "Processing...\n",
      "Done!\n"
     ]
    },
    {
     "name": "stderr",
     "output_type": "stream",
     "text": [
      "\n"
     ]
    }
   ],
   "source": [
    "img_transform = transforms.Compose([\n",
    "    transforms.ToTensor(),\n",
    "    transforms.Normalize((0.5, 0.5, 0.5), (0.5, 0.5, 0.5))\n",
    "])\n",
    "\n",
    "dataset = MNIST('./data', transform=img_transform, download=True)\n",
    "dataloader = DataLoader(dataset, batch_size=batch_size, shuffle=True)"
   ]
  },
  {
   "cell_type": "code",
   "execution_count": 6,
   "metadata": {},
   "outputs": [],
   "source": [
    "class autoencoder(nn.Module):\n",
    "    def __init__(self):\n",
    "        super(autoencoder, self).__init__()\n",
    "        self.encoder = nn.Sequential(\n",
    "            nn.Linear(28 * 28, 128),\n",
    "            nn.ReLU(True),\n",
    "            nn.Linear(128, 64),\n",
    "            nn.ReLU(True), nn.Linear(64, 12), nn.ReLU(True), nn.Linear(12, 3))\n",
    "        self.decoder = nn.Sequential(\n",
    "            nn.Linear(3, 12),\n",
    "            nn.ReLU(True),\n",
    "            nn.Linear(12, 64),\n",
    "            nn.ReLU(True),\n",
    "            nn.Linear(64, 128),\n",
    "            nn.ReLU(True), nn.Linear(128, 28 * 28), nn.Tanh())\n",
    "\n",
    "    def forward(self, x):\n",
    "        x = self.encoder(x)\n",
    "        x = self.decoder(x)\n",
    "        return x"
   ]
  },
  {
   "cell_type": "code",
   "execution_count": 7,
   "metadata": {},
   "outputs": [],
   "source": [
    "model = autoencoder().cuda()\n",
    "criterion = nn.MSELoss()\n",
    "optimizer = torch.optim.Adam(\n",
    "    model.parameters(), lr=learning_rate, weight_decay=1e-5)"
   ]
  },
  {
   "cell_type": "code",
   "execution_count": 11,
   "metadata": {},
   "outputs": [
    {
     "name": "stdout",
     "output_type": "stream",
     "text": [
      "epoch [1/100], loss:0.1697\n",
      "epoch [2/100], loss:0.1427\n",
      "epoch [3/100], loss:0.1518\n",
      "epoch [4/100], loss:0.1544\n",
      "epoch [5/100], loss:0.1517\n",
      "epoch [6/100], loss:0.1567\n",
      "epoch [7/100], loss:0.1344\n",
      "epoch [8/100], loss:0.1273\n",
      "epoch [9/100], loss:0.1444\n",
      "epoch [10/100], loss:0.1509\n",
      "epoch [11/100], loss:0.1408\n",
      "epoch [12/100], loss:0.1388\n",
      "epoch [13/100], loss:0.1377\n",
      "epoch [14/100], loss:0.1314\n",
      "epoch [15/100], loss:0.1341\n",
      "epoch [16/100], loss:0.1374\n",
      "epoch [17/100], loss:0.1234\n",
      "epoch [18/100], loss:0.1164\n",
      "epoch [19/100], loss:0.1254\n",
      "epoch [20/100], loss:0.1224\n",
      "epoch [21/100], loss:0.1231\n",
      "epoch [22/100], loss:0.1403\n",
      "epoch [23/100], loss:0.1306\n",
      "epoch [24/100], loss:0.1320\n",
      "epoch [25/100], loss:0.1228\n",
      "epoch [26/100], loss:0.1319\n",
      "epoch [27/100], loss:0.1215\n",
      "epoch [28/100], loss:0.1375\n",
      "epoch [29/100], loss:0.1387\n",
      "epoch [30/100], loss:0.1239\n",
      "epoch [31/100], loss:0.1266\n",
      "epoch [32/100], loss:0.1202\n",
      "epoch [33/100], loss:0.1298\n",
      "epoch [34/100], loss:0.1245\n",
      "epoch [35/100], loss:0.1369\n",
      "epoch [36/100], loss:0.1260\n",
      "epoch [37/100], loss:0.1256\n",
      "epoch [38/100], loss:0.1381\n",
      "epoch [39/100], loss:0.1284\n",
      "epoch [40/100], loss:0.1310\n",
      "epoch [41/100], loss:0.1180\n",
      "epoch [42/100], loss:0.1294\n",
      "epoch [43/100], loss:0.1151\n",
      "epoch [44/100], loss:0.1314\n",
      "epoch [45/100], loss:0.1240\n",
      "epoch [46/100], loss:0.1274\n",
      "epoch [47/100], loss:0.1293\n",
      "epoch [48/100], loss:0.1321\n",
      "epoch [49/100], loss:0.1292\n",
      "epoch [50/100], loss:0.1270\n",
      "epoch [51/100], loss:0.1250\n",
      "epoch [52/100], loss:0.1193\n",
      "epoch [53/100], loss:0.1259\n",
      "epoch [54/100], loss:0.1170\n",
      "epoch [55/100], loss:0.1244\n",
      "epoch [56/100], loss:0.1235\n",
      "epoch [57/100], loss:0.1159\n",
      "epoch [58/100], loss:0.1211\n",
      "epoch [59/100], loss:0.1276\n",
      "epoch [60/100], loss:0.1179\n",
      "epoch [61/100], loss:0.1243\n",
      "epoch [62/100], loss:0.1204\n",
      "epoch [63/100], loss:0.1181\n",
      "epoch [64/100], loss:0.1232\n",
      "epoch [65/100], loss:0.1238\n",
      "epoch [66/100], loss:0.1171\n",
      "epoch [67/100], loss:0.1281\n",
      "epoch [68/100], loss:0.1126\n",
      "epoch [69/100], loss:0.1217\n",
      "epoch [70/100], loss:0.1152\n",
      "epoch [71/100], loss:0.1313\n",
      "epoch [72/100], loss:0.1197\n",
      "epoch [73/100], loss:0.1380\n",
      "epoch [74/100], loss:0.1230\n",
      "epoch [75/100], loss:0.1246\n",
      "epoch [76/100], loss:0.1187\n",
      "epoch [77/100], loss:0.1166\n",
      "epoch [78/100], loss:0.1165\n",
      "epoch [79/100], loss:0.1207\n",
      "epoch [80/100], loss:0.1204\n",
      "epoch [81/100], loss:0.1175\n",
      "epoch [82/100], loss:0.1204\n",
      "epoch [83/100], loss:0.1401\n",
      "epoch [84/100], loss:0.1314\n",
      "epoch [85/100], loss:0.1136\n",
      "epoch [86/100], loss:0.1167\n",
      "epoch [87/100], loss:0.1358\n",
      "epoch [88/100], loss:0.1164\n",
      "epoch [89/100], loss:0.1207\n",
      "epoch [90/100], loss:0.1205\n",
      "epoch [91/100], loss:0.1168\n",
      "epoch [92/100], loss:0.1233\n",
      "epoch [93/100], loss:0.1236\n",
      "epoch [94/100], loss:0.1196\n",
      "epoch [95/100], loss:0.1256\n",
      "epoch [96/100], loss:0.1216\n",
      "epoch [97/100], loss:0.1234\n",
      "epoch [98/100], loss:0.1265\n",
      "epoch [99/100], loss:0.1381\n",
      "epoch [100/100], loss:0.1236\n"
     ]
    }
   ],
   "source": [
    "for epoch in range(num_epochs):\n",
    "    for data in dataloader:\n",
    "        img, _ = data\n",
    "        img = img.view(img.size(0), -1)\n",
    "        img = Variable(img).cuda()\n",
    "        # ===================forward=====================\n",
    "        output = model(img)\n",
    "        loss = criterion(output, img)\n",
    "        # ===================backward====================\n",
    "        optimizer.zero_grad()\n",
    "        loss.backward()\n",
    "        optimizer.step()\n",
    "    # ===================log========================\n",
    "    print('epoch [{}/{}], loss:{:.4f}'\n",
    "          .format(epoch + 1, num_epochs, loss.item()))\n",
    "    if epoch % 10 == 0:\n",
    "        pic = to_img(output.cpu().data)\n",
    "        save_image(pic, './mlp_img/image_{}.png'.format(epoch))"
   ]
  },
  {
   "cell_type": "code",
   "execution_count": 9,
   "metadata": {},
   "outputs": [],
   "source": [
    "torch.save(model.state_dict(), './sim_autoencoder.pth')"
   ]
  }
 ],
 "metadata": {
  "kernelspec": {
   "display_name": "Python 3",
   "language": "python",
   "name": "python3"
  },
  "language_info": {
   "codemirror_mode": {
    "name": "ipython",
    "version": 3
   },
   "file_extension": ".py",
   "mimetype": "text/x-python",
   "name": "python",
   "nbconvert_exporter": "python",
   "pygments_lexer": "ipython3",
   "version": "3.6.5"
  }
 },
 "nbformat": 4,
 "nbformat_minor": 2
}
